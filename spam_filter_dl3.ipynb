{
  "metadata": {
    "accelerator": "GPU",
    "colab": {
      "gpuType": "T4",
      "provenance": []
    },
    "kernelspec": {
      "name": "python3",
      "display_name": "Python 3",
      "language": "python"
    },
    "language_info": {
      "name": "python",
      "version": "3.10.14",
      "mimetype": "text/x-python",
      "codemirror_mode": {
        "name": "ipython",
        "version": 3
      },
      "pygments_lexer": "ipython3",
      "nbconvert_exporter": "python",
      "file_extension": ".py"
    },
    "kaggle": {
      "accelerator": "none",
      "dataSources": [
        {
          "sourceId": 9243979,
          "sourceType": "datasetVersion",
          "datasetId": 5591928
        },
        {
          "sourceId": 9244046,
          "sourceType": "datasetVersion",
          "datasetId": 5591971
        }
      ],
      "dockerImageVersionId": 30761,
      "isInternetEnabled": false,
      "language": "python",
      "sourceType": "notebook",
      "isGpuEnabled": false
    }
  },
  "nbformat_minor": 0,
  "nbformat": 4,
  "cells": [
    {
      "cell_type": "code",
      "source": [
        "import pandas as pd\n",
        "import numpy as np\n",
        "import seaborn as sns\n",
        "import matplotlib.pyplot as plt\n",
        "\n",
        "from sklearn.metrics import classification_report, confusion_matrix, roc_auc_score\n",
        "\n",
        "from tensorflow.keras.preprocessing.text import Tokenizer\n",
        "from tensorflow.keras.preprocessing import sequence\n",
        "from tensorflow.keras.layers import LSTM, Dense, Input, Embedding, Dropout\n",
        "from tensorflow.keras.models import Model"
      ],
      "metadata": {
        "id": "euTN_Ve1mc4m",
        "execution": {
          "iopub.status.busy": "2024-08-27T07:48:56.461046Z",
          "iopub.execute_input": "2024-08-27T07:48:56.461510Z",
          "iopub.status.idle": "2024-08-27T07:48:56.468844Z",
          "shell.execute_reply.started": "2024-08-27T07:48:56.461467Z",
          "shell.execute_reply": "2024-08-27T07:48:56.467501Z"
        },
        "trusted": true
      },
      "execution_count": null,
      "outputs": []
    },
    {
      "cell_type": "code",
      "source": [
        "# Loading the training data\n",
        "train = pd.read_csv('/kaggle/input/spam-train-csv/train.csv')"
      ],
      "metadata": {
        "id": "6BW59TmzmkM2",
        "execution": {
          "iopub.status.busy": "2024-08-27T07:48:56.471853Z",
          "iopub.execute_input": "2024-08-27T07:48:56.473254Z",
          "iopub.status.idle": "2024-08-27T07:49:00.193289Z",
          "shell.execute_reply.started": "2024-08-27T07:48:56.473172Z",
          "shell.execute_reply": "2024-08-27T07:49:00.192038Z"
        },
        "trusted": true
      },
      "execution_count": null,
      "outputs": []
    },
    {
      "cell_type": "code",
      "source": [
        "train.head()"
      ],
      "metadata": {
        "id": "zPIN-Injm8Ly",
        "execution": {
          "iopub.status.busy": "2024-08-27T07:49:00.194644Z",
          "iopub.execute_input": "2024-08-27T07:49:00.195015Z",
          "iopub.status.idle": "2024-08-27T07:49:00.218130Z",
          "shell.execute_reply.started": "2024-08-27T07:49:00.194977Z",
          "shell.execute_reply": "2024-08-27T07:49:00.216708Z"
        },
        "trusted": true
      },
      "execution_count": null,
      "outputs": []
    },
    {
      "cell_type": "code",
      "source": [
        "# Reading word embeddings from a GloVe file and storing them in a dictionary\n",
        "embedding_index = {}\n",
        "f = open(r\"/kaggle/input/glove-dataset/glove.6B.100d.txt\", encoding='utf-8')\n",
        "for line in f:\n",
        "    values = line.split()\n",
        "    word = values[0]\n",
        "    wts = np.asarray(values[-100:], dtype='float32')\n",
        "    embedding_index[word] = wts\n",
        "f.close()"
      ],
      "metadata": {
        "id": "_ttMmZjZ4L6h",
        "execution": {
          "iopub.status.busy": "2024-08-27T07:49:00.241374Z",
          "iopub.execute_input": "2024-08-27T07:49:00.241841Z",
          "iopub.status.idle": "2024-08-27T07:49:15.484255Z",
          "shell.execute_reply.started": "2024-08-27T07:49:00.241798Z",
          "shell.execute_reply": "2024-08-27T07:49:15.482853Z"
        },
        "trusted": true
      },
      "execution_count": null,
      "outputs": []
    },
    {
      "cell_type": "code",
      "source": [
        "# Word vectors from GloVe file associated with 'today'\n",
        "embedding_index['today']"
      ],
      "metadata": {
        "id": "O4oyLYf64NoF",
        "execution": {
          "iopub.status.busy": "2024-08-27T07:49:15.485780Z",
          "iopub.execute_input": "2024-08-27T07:49:15.486169Z",
          "iopub.status.idle": "2024-08-27T07:49:15.497227Z",
          "shell.execute_reply.started": "2024-08-27T07:49:15.486129Z",
          "shell.execute_reply": "2024-08-27T07:49:15.495930Z"
        },
        "trusted": true
      },
      "execution_count": null,
      "outputs": []
    },
    {
      "cell_type": "code",
      "source": [
        "from sklearn.model_selection import train_test_split\n",
        "Train_train, Test_test=train_test_split(train, test_size=0.2)"
      ],
      "metadata": {
        "id": "Uxv_Bqya4ObX",
        "execution": {
          "iopub.status.busy": "2024-08-27T07:49:15.498998Z",
          "iopub.execute_input": "2024-08-27T07:49:15.499510Z",
          "iopub.status.idle": "2024-08-27T07:49:16.154213Z",
          "shell.execute_reply.started": "2024-08-27T07:49:15.499454Z",
          "shell.execute_reply": "2024-08-27T07:49:16.153170Z"
        },
        "trusted": true
      },
      "execution_count": null,
      "outputs": []
    },
    {
      "cell_type": "code",
      "source": [
        "x_train=Train_train['question_text']\n",
        "y_train=Train_train['target']\n",
        "x_test=Test_test['question_text']\n",
        "y_test=Test_test['target']"
      ],
      "metadata": {
        "id": "aGUNWLPa4PJF",
        "execution": {
          "iopub.status.busy": "2024-08-27T07:49:16.155716Z",
          "iopub.execute_input": "2024-08-27T07:49:16.156103Z",
          "iopub.status.idle": "2024-08-27T07:49:16.162906Z",
          "shell.execute_reply.started": "2024-08-27T07:49:16.156052Z",
          "shell.execute_reply": "2024-08-27T07:49:16.161577Z"
        },
        "trusted": true
      },
      "execution_count": null,
      "outputs": []
    },
    {
      "cell_type": "code",
      "source": [
        "# New column to dataframe 'train' with name:'length'\n",
        "train['length']=[len(x) for x in train['question_text']]"
      ],
      "metadata": {
        "id": "7AjI-6403Q5e",
        "execution": {
          "iopub.status.busy": "2024-08-27T07:49:16.164428Z",
          "iopub.execute_input": "2024-08-27T07:49:16.164857Z",
          "iopub.status.idle": "2024-08-27T07:49:17.132617Z",
          "shell.execute_reply.started": "2024-08-27T07:49:16.164813Z",
          "shell.execute_reply": "2024-08-27T07:49:17.131403Z"
        },
        "trusted": true
      },
      "execution_count": null,
      "outputs": []
    },
    {
      "cell_type": "code",
      "source": [
        "# To get the maximum and minimum values in the 'length' column of the DataFrame train\n",
        "train['length'].max(),train['length'].min()"
      ],
      "metadata": {
        "id": "ICbU01aC2z-2",
        "execution": {
          "iopub.status.busy": "2024-08-27T07:49:17.134672Z",
          "iopub.execute_input": "2024-08-27T07:49:17.135153Z",
          "iopub.status.idle": "2024-08-27T07:49:17.146405Z",
          "shell.execute_reply.started": "2024-08-27T07:49:17.135100Z",
          "shell.execute_reply": "2024-08-27T07:49:17.145180Z"
        },
        "trusted": true
      },
      "execution_count": null,
      "outputs": []
    },
    {
      "cell_type": "code",
      "source": [
        "max_len=251\n",
        "# To create a Tokenizer object named 'Tk' for tokenizing text data.\n",
        "Tk=Tokenizer(char_level=False,split=' ')\n",
        "# Tokenizer learns the vocabulary and tokenizes the text in x_train\n",
        "Tk.fit_on_texts(x_train)"
      ],
      "metadata": {
        "id": "74o_--yv4Pui",
        "execution": {
          "iopub.status.busy": "2024-08-27T07:49:21.999185Z",
          "iopub.execute_input": "2024-08-27T07:49:21.999617Z",
          "iopub.status.idle": "2024-08-27T07:49:50.335615Z",
          "shell.execute_reply.started": "2024-08-27T07:49:21.999572Z",
          "shell.execute_reply": "2024-08-27T07:49:50.334410Z"
        },
        "trusted": true
      },
      "execution_count": null,
      "outputs": []
    },
    {
      "cell_type": "code",
      "source": [
        "# To calculate the number of unique words (or tokens) in your text data, which is the vocabulary size of the tokenizer('Tk')\n",
        "vocab_size=len(Tk.word_index)"
      ],
      "metadata": {
        "id": "KTEVJbgJ4QAn",
        "execution": {
          "iopub.status.busy": "2024-08-27T07:49:50.340083Z",
          "iopub.execute_input": "2024-08-27T07:49:50.340511Z",
          "iopub.status.idle": "2024-08-27T07:49:50.346174Z",
          "shell.execute_reply.started": "2024-08-27T07:49:50.340471Z",
          "shell.execute_reply": "2024-08-27T07:49:50.344868Z"
        },
        "trusted": true
      },
      "execution_count": null,
      "outputs": []
    },
    {
      "cell_type": "code",
      "source": [
        "vocab_size"
      ],
      "metadata": {
        "id": "UScJhHjfdbac",
        "execution": {
          "iopub.status.busy": "2024-08-27T07:49:50.347736Z",
          "iopub.execute_input": "2024-08-27T07:49:50.348147Z",
          "iopub.status.idle": "2024-08-27T07:49:50.363813Z",
          "shell.execute_reply.started": "2024-08-27T07:49:50.348106Z",
          "shell.execute_reply": "2024-08-27T07:49:50.362536Z"
        },
        "trusted": true
      },
      "execution_count": null,
      "outputs": []
    },
    {
      "cell_type": "code",
      "source": [
        "# To convert the text sequences in your training dataset x_train into sequences of integers\n",
        "seq_train=Tk.texts_to_sequences(x_train)\n",
        "# To convert the text sequences in your test dataset x_test into a matrix format.\n",
        "seq_test=Tk.texts_to_matrix(x_test)"
      ],
      "metadata": {
        "id": "cEKxCDZl4QNf",
        "execution": {
          "iopub.status.busy": "2024-08-27T07:49:50.365489Z",
          "iopub.execute_input": "2024-08-27T07:49:50.365972Z",
          "iopub.status.idle": "2024-08-27T07:50:28.003789Z",
          "shell.execute_reply.started": "2024-08-27T07:49:50.365927Z",
          "shell.execute_reply": "2024-08-27T07:50:28.002436Z"
        },
        "trusted": true
      },
      "execution_count": null,
      "outputs": []
    },
    {
      "cell_type": "code",
      "source": [
        "# Padding the x_train and x_test files to the max. length taken\n",
        "seq_train_matrix=sequence.pad_sequences(seq_train,maxlen=max_len)\n",
        "seq_test_matrix=sequence.pad_sequences(seq_test,maxlen=max_len)"
      ],
      "metadata": {
        "id": "o25qO9qL4QaX",
        "execution": {
          "iopub.status.busy": "2024-08-27T07:50:28.005721Z",
          "iopub.execute_input": "2024-08-27T07:50:28.006270Z",
          "iopub.status.idle": "2024-08-27T07:50:35.292635Z",
          "shell.execute_reply.started": "2024-08-27T07:50:28.006208Z",
          "shell.execute_reply": "2024-08-27T07:50:35.291220Z"
        },
        "trusted": true
      },
      "execution_count": null,
      "outputs": []
    },
    {
      "cell_type": "code",
      "source": [
        "# To initialize the embedding layer in a deep learning model with pre-trained word embeddings.\n",
        "embedding_matrix=np.zeros((vocab_size+1,100))"
      ],
      "metadata": {
        "id": "XCaUG3D74Qm3",
        "execution": {
          "iopub.status.busy": "2024-08-27T07:50:35.294658Z",
          "iopub.execute_input": "2024-08-27T07:50:35.295083Z",
          "iopub.status.idle": "2024-08-27T07:50:35.301329Z",
          "shell.execute_reply.started": "2024-08-27T07:50:35.295033Z",
          "shell.execute_reply": "2024-08-27T07:50:35.299784Z"
        },
        "trusted": true
      },
      "execution_count": null,
      "outputs": []
    },
    {
      "cell_type": "code",
      "source": [
        "# To fill the embedding_matrix with pre-trained word vectors obtained from the embedding_index dictionary\n",
        "for word,i in Tk.word_index.items():\n",
        "  # To retrieve the pre-trained word vector for the current word word from the embedding_index dictionary.\n",
        "  embed_vector=embedding_index.get(word)\n",
        "\n",
        "  if embed_vector is not None:\n",
        "    embedding_matrix[i]=embed_vector"
      ],
      "metadata": {
        "id": "BqX3_YdI4QyZ",
        "execution": {
          "iopub.status.busy": "2024-08-27T07:50:35.302974Z",
          "iopub.execute_input": "2024-08-27T07:50:35.303421Z",
          "iopub.status.idle": "2024-08-27T07:50:35.724003Z",
          "shell.execute_reply.started": "2024-08-27T07:50:35.303378Z",
          "shell.execute_reply": "2024-08-27T07:50:35.722513Z"
        },
        "trusted": true
      },
      "execution_count": null,
      "outputs": []
    },
    {
      "cell_type": "code",
      "source": [
        "# Define input and embedding layers\n",
        "inputs = Input(name='question_text', shape=[max_len])\n",
        "embed = Embedding(vocab_size + 1, 100, input_length=max_len, mask_zero=True, weights=[embedding_matrix], trainable=False)(inputs)\n",
        "\n",
        "# Define the LSTM layer with unroll=True to disable cuDNN\n",
        "lstm_layer = LSTM(50, recurrent_activation='sigmoid', unroll=True)(embed)\n",
        "\n",
        "# Define remaining layers\n",
        "dense1 = Dense(10, activation='relu')(lstm_layer)\n",
        "dr1 = Dropout(0.2)(dense1)\n",
        "final_layer = Dense(1, activation='sigmoid')(dr1)\n",
        "\n",
        "# Build and compile the model\n",
        "model = Model(inputs=inputs, outputs=final_layer)\n",
        "model.summary()"
      ],
      "metadata": {
        "id": "GLUXw7in4Q9K",
        "execution": {
          "iopub.status.busy": "2024-08-27T07:50:35.725600Z",
          "iopub.execute_input": "2024-08-27T07:50:35.726293Z",
          "iopub.status.idle": "2024-08-27T07:50:36.287165Z",
          "shell.execute_reply.started": "2024-08-27T07:50:35.726233Z",
          "shell.execute_reply": "2024-08-27T07:50:36.285583Z"
        },
        "trusted": true
      },
      "execution_count": null,
      "outputs": []
    },
    {
      "cell_type": "code",
      "source": [
        "# Compiling and training the model\n",
        "model.compile(optimizer='adam', loss='binary_crossentropy', metrics=['accuracy'])\n",
        "model.fit(seq_train_matrix, y_train, validation_data=[seq_test_matrix, y_test], epochs=20, batch_size=50)"
      ],
      "metadata": {
        "id": "sNDM2jYZ4RHM",
        "execution": {
          "iopub.status.busy": "2024-08-27T07:50:36.288747Z",
          "iopub.execute_input": "2024-08-27T07:50:36.289154Z"
        },
        "trusted": true
      },
      "execution_count": null,
      "outputs": []
    },
    {
      "cell_type": "code",
      "source": [
        "# Predict the probabilities for the test set\n",
        "y_pred_proba = model.predict(seq_test_matrix)\n",
        "\n",
        "# Convert probabilities to binary output\n",
        "y_pred = (y_pred_proba > 0.5).astype(int)\n",
        "\n",
        "# Confusion Matrix\n",
        "conf_matrix = confusion_matrix(y_test, y_pred)\n",
        "sns.heatmap(conf_matrix, annot=True, fmt='d', cmap='Blues')\n",
        "plt.title('Confusion Matrix')\n",
        "plt.show()\n",
        "\n",
        "# Classification Report\n",
        "print(\"Classification Report:\")\n",
        "print(classification_report(y_test, y_pred))\n",
        "\n",
        "# ROC-AUC Score\n",
        "roc_auc = roc_auc_score(y_test, y_pred_proba)\n",
        "print(f\"ROC-AUC Score: {roc_auc:.4f}\")"
      ],
      "metadata": {
        "id": "new_cell_id",
        "execution": {
          "iopub.status.busy": "2024-08-27T07:50:36.288747Z",
          "iopub.execute_input": "2024-08-27T07:50:36.289154Z"
        },
        "trusted": true
      },
      "execution_count": null,
      "outputs": []
    }
  ]
}
